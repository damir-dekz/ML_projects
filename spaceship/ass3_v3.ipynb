{
 "cells": [
  {
   "cell_type": "markdown",
   "id": "35b91b4e",
   "metadata": {},
   "source": [
    "# Assignment 3"
   ]
  },
  {
   "cell_type": "markdown",
   "id": "5dae77fd",
   "metadata": {},
   "source": [
    "To begin with, let's first import the necessary libraries - numpy, pandas, matplotlib, seaborn, and sklearn. Load the preprocessed data from Assignment 1, which should contain at least 2K samples with ground truth labels. Split the data into training and testing sets.\n",
    "\n",
    "Next, we will create two models - Linear Regression and Logistic Regression. For both models, we will first fit them to the training data, and then evaluate their performance on the testing data. We will use the mean squared error for the Linear Regression model and the accuracy score for the Logistic Regression model.\n",
    "\n",
    "We will then plot learning curves for both models to check for Overfitting/Underfitting. If the curves show Overfitting, we will apply regularization techniques such as L1 regularization or L2 regularization to the models. We will again plot the learning curves and check if the models have improved.\n",
    "\n",
    "We will then perform hyperparameter optimization on the models using techniques such as Grid Search or Random Search to find the optimal values of hyperparameters. We will evaluate the models again on the testing data to check if the performance has improved.\n",
    "\n",
    "Finally, we will summarize our findings and demonstrate the code through a presentation.\n",
    "\n",
    "Below is some sample code that you can use as a reference to implement the above steps:"
   ]
  },
  {
   "cell_type": "markdown",
   "id": "33b21f0e",
   "metadata": {},
   "source": [
    "# Importing libraries"
   ]
  },
  {
   "cell_type": "code",
   "execution_count": 1,
   "id": "2a445960",
   "metadata": {},
   "outputs": [],
   "source": [
    "import numpy as np\n",
    "import pandas as pd\n",
    "import matplotlib.pyplot as plt\n",
    "import seaborn as sns\n",
    "from sklearn.model_selection import train_test_split\n",
    "from sklearn.linear_model import LinearRegression, LogisticRegression\n",
    "from sklearn.preprocessing import LabelEncoder\n",
    "from sklearn.metrics import mean_squared_error, accuracy_score\n",
    "from sklearn.model_selection import train_test_split, GridSearchCV, cross_validate, validation_curve, learning_curve\n",
    "from sklearn import linear_model, metrics"
   ]
  },
  {
   "cell_type": "code",
   "execution_count": 2,
   "id": "bb9fc11d",
   "metadata": {},
   "outputs": [
    {
     "name": "stdout",
     "output_type": "stream",
     "text": [
      "(8693, 14)\n"
     ]
    }
   ],
   "source": [
    "# Load data\n",
    "data = pd.read_csv('train_space.csv')\n",
    "print(data.shape)"
   ]
  },
  {
   "cell_type": "code",
   "execution_count": 3,
   "id": "59974618",
   "metadata": {},
   "outputs": [
    {
     "data": {
      "text/html": [
       "<div>\n",
       "<style scoped>\n",
       "    .dataframe tbody tr th:only-of-type {\n",
       "        vertical-align: middle;\n",
       "    }\n",
       "\n",
       "    .dataframe tbody tr th {\n",
       "        vertical-align: top;\n",
       "    }\n",
       "\n",
       "    .dataframe thead th {\n",
       "        text-align: right;\n",
       "    }\n",
       "</style>\n",
       "<table border=\"1\" class=\"dataframe\">\n",
       "  <thead>\n",
       "    <tr style=\"text-align: right;\">\n",
       "      <th></th>\n",
       "      <th>PassengerId</th>\n",
       "      <th>HomePlanet</th>\n",
       "      <th>CryoSleep</th>\n",
       "      <th>Cabin</th>\n",
       "      <th>Destination</th>\n",
       "      <th>Age</th>\n",
       "      <th>VIP</th>\n",
       "      <th>RoomService</th>\n",
       "      <th>FoodCourt</th>\n",
       "      <th>ShoppingMall</th>\n",
       "      <th>Spa</th>\n",
       "      <th>VRDeck</th>\n",
       "      <th>Name</th>\n",
       "      <th>Transported</th>\n",
       "    </tr>\n",
       "  </thead>\n",
       "  <tbody>\n",
       "    <tr>\n",
       "      <th>0</th>\n",
       "      <td>0001_01</td>\n",
       "      <td>Europa</td>\n",
       "      <td>False</td>\n",
       "      <td>B/0/P</td>\n",
       "      <td>TRAPPIST-1e</td>\n",
       "      <td>39.0</td>\n",
       "      <td>False</td>\n",
       "      <td>0.0</td>\n",
       "      <td>0.0</td>\n",
       "      <td>0.0</td>\n",
       "      <td>0.0</td>\n",
       "      <td>0.0</td>\n",
       "      <td>Maham Ofracculy</td>\n",
       "      <td>False</td>\n",
       "    </tr>\n",
       "    <tr>\n",
       "      <th>1</th>\n",
       "      <td>0002_01</td>\n",
       "      <td>Earth</td>\n",
       "      <td>False</td>\n",
       "      <td>F/0/S</td>\n",
       "      <td>TRAPPIST-1e</td>\n",
       "      <td>24.0</td>\n",
       "      <td>False</td>\n",
       "      <td>109.0</td>\n",
       "      <td>9.0</td>\n",
       "      <td>25.0</td>\n",
       "      <td>549.0</td>\n",
       "      <td>44.0</td>\n",
       "      <td>Juanna Vines</td>\n",
       "      <td>True</td>\n",
       "    </tr>\n",
       "    <tr>\n",
       "      <th>2</th>\n",
       "      <td>0003_01</td>\n",
       "      <td>Europa</td>\n",
       "      <td>False</td>\n",
       "      <td>A/0/S</td>\n",
       "      <td>TRAPPIST-1e</td>\n",
       "      <td>58.0</td>\n",
       "      <td>True</td>\n",
       "      <td>43.0</td>\n",
       "      <td>3576.0</td>\n",
       "      <td>0.0</td>\n",
       "      <td>6715.0</td>\n",
       "      <td>49.0</td>\n",
       "      <td>Altark Susent</td>\n",
       "      <td>False</td>\n",
       "    </tr>\n",
       "  </tbody>\n",
       "</table>\n",
       "</div>"
      ],
      "text/plain": [
       "  PassengerId HomePlanet CryoSleep  Cabin  Destination   Age    VIP  \\\n",
       "0     0001_01     Europa     False  B/0/P  TRAPPIST-1e  39.0  False   \n",
       "1     0002_01      Earth     False  F/0/S  TRAPPIST-1e  24.0  False   \n",
       "2     0003_01     Europa     False  A/0/S  TRAPPIST-1e  58.0   True   \n",
       "\n",
       "   RoomService  FoodCourt  ShoppingMall     Spa  VRDeck             Name  \\\n",
       "0          0.0        0.0           0.0     0.0     0.0  Maham Ofracculy   \n",
       "1        109.0        9.0          25.0   549.0    44.0     Juanna Vines   \n",
       "2         43.0     3576.0           0.0  6715.0    49.0    Altark Susent   \n",
       "\n",
       "   Transported  \n",
       "0        False  \n",
       "1         True  \n",
       "2        False  "
      ]
     },
     "execution_count": 3,
     "metadata": {},
     "output_type": "execute_result"
    }
   ],
   "source": [
    "data.head(3)"
   ]
  },
  {
   "cell_type": "markdown",
   "id": "be1f5720",
   "metadata": {},
   "source": [
    "PassengerId - A unique Id for each passenger. Each Id takes the form gggg_pp where gggg indicates a group the passenger is travelling with and pp is their number within the group. People in a group are often family members, but not always.\n",
    "\n",
    "HomePlanet - The planet the passenger departed from, typically their planet of permanent residence.\n",
    "\n",
    "CryoSleep - Indicates whether the passenger elected to be put into suspended animation for the duration of the voyage. Passengers in cryosleep are confined to their cabins.\n",
    "\n",
    "Cabin - The cabin number where the passenger is staying. Takes the form deck/num/side, where side can be either P for Port or S for Starboard.\n",
    "\n",
    "Destination - The planet the passenger will be debarking to.\n",
    "\n",
    "Age - The age of the passenger.\n",
    "\n",
    "VIP - Whether the passenger has paid for special VIP service during the voyage.\n",
    "\n",
    "RoomService, FoodCourt, ShoppingMall, Spa, VRDeck - Amount the passenger has billed at each of the Spaceship Titanic's many luxury amenities.\n",
    "\n",
    "Name - The first and last names of the passenger.\n",
    "\n",
    "Transported - Whether the passenger was transported to another dimension. This is the our target variable which we we have to find and predict."
   ]
  },
  {
   "cell_type": "markdown",
   "id": "6484bc49",
   "metadata": {},
   "source": [
    "* 8693 samples -passengers\n",
    "* Features: HomePlanet, CryoSleep, Cabin, Destination, Age, VIP,\n",
    "RoomService, FoodCourt, ShoppingMall, Spa, VRDeck, Name\n",
    "* Label: Transported"
   ]
  },
  {
   "cell_type": "markdown",
   "id": "9d597a99",
   "metadata": {},
   "source": [
    "# Preprocessing data"
   ]
  },
  {
   "cell_type": "markdown",
   "id": "f04109af",
   "metadata": {},
   "source": [
    "Second step is preprocessing data to get rid of null values and encoding non-numerical values.\n",
    "* There are two unnecessary columns in this dataset.\n",
    "* The first one is the Name column because names are non-numerical data and it includes too many unique values.\n",
    "* The second one is Cabin column. There are 6560 unique values in this column. You can check number of unique values with the following code.\n"
   ]
  },
  {
   "cell_type": "code",
   "execution_count": 4,
   "id": "4f501de8",
   "metadata": {},
   "outputs": [
    {
     "name": "stdout",
     "output_type": "stream",
     "text": [
      "6560\n"
     ]
    }
   ],
   "source": [
    "print(len(data['Cabin'].value_counts()))"
   ]
  },
  {
   "cell_type": "code",
   "execution_count": 5,
   "id": "91b08c03",
   "metadata": {},
   "outputs": [],
   "source": [
    "# Let’s drop these columns from the dataset.\n",
    "data = data.drop(['Cabin', 'Name'], axis=1)"
   ]
  },
  {
   "cell_type": "code",
   "execution_count": 6,
   "id": "81921e35",
   "metadata": {},
   "outputs": [
    {
     "data": {
      "text/html": [
       "<div>\n",
       "<style scoped>\n",
       "    .dataframe tbody tr th:only-of-type {\n",
       "        vertical-align: middle;\n",
       "    }\n",
       "\n",
       "    .dataframe tbody tr th {\n",
       "        vertical-align: top;\n",
       "    }\n",
       "\n",
       "    .dataframe thead th {\n",
       "        text-align: right;\n",
       "    }\n",
       "</style>\n",
       "<table border=\"1\" class=\"dataframe\">\n",
       "  <thead>\n",
       "    <tr style=\"text-align: right;\">\n",
       "      <th></th>\n",
       "      <th>Age</th>\n",
       "      <th>RoomService</th>\n",
       "      <th>FoodCourt</th>\n",
       "      <th>ShoppingMall</th>\n",
       "      <th>Spa</th>\n",
       "      <th>VRDeck</th>\n",
       "    </tr>\n",
       "  </thead>\n",
       "  <tbody>\n",
       "    <tr>\n",
       "      <th>count</th>\n",
       "      <td>8514.000000</td>\n",
       "      <td>8512.000000</td>\n",
       "      <td>8510.000000</td>\n",
       "      <td>8485.000000</td>\n",
       "      <td>8510.000000</td>\n",
       "      <td>8505.000000</td>\n",
       "    </tr>\n",
       "    <tr>\n",
       "      <th>mean</th>\n",
       "      <td>28.827930</td>\n",
       "      <td>224.687617</td>\n",
       "      <td>458.077203</td>\n",
       "      <td>173.729169</td>\n",
       "      <td>311.138778</td>\n",
       "      <td>304.854791</td>\n",
       "    </tr>\n",
       "    <tr>\n",
       "      <th>std</th>\n",
       "      <td>14.489021</td>\n",
       "      <td>666.717663</td>\n",
       "      <td>1611.489240</td>\n",
       "      <td>604.696458</td>\n",
       "      <td>1136.705535</td>\n",
       "      <td>1145.717189</td>\n",
       "    </tr>\n",
       "    <tr>\n",
       "      <th>min</th>\n",
       "      <td>0.000000</td>\n",
       "      <td>0.000000</td>\n",
       "      <td>0.000000</td>\n",
       "      <td>0.000000</td>\n",
       "      <td>0.000000</td>\n",
       "      <td>0.000000</td>\n",
       "    </tr>\n",
       "    <tr>\n",
       "      <th>25%</th>\n",
       "      <td>19.000000</td>\n",
       "      <td>0.000000</td>\n",
       "      <td>0.000000</td>\n",
       "      <td>0.000000</td>\n",
       "      <td>0.000000</td>\n",
       "      <td>0.000000</td>\n",
       "    </tr>\n",
       "    <tr>\n",
       "      <th>50%</th>\n",
       "      <td>27.000000</td>\n",
       "      <td>0.000000</td>\n",
       "      <td>0.000000</td>\n",
       "      <td>0.000000</td>\n",
       "      <td>0.000000</td>\n",
       "      <td>0.000000</td>\n",
       "    </tr>\n",
       "    <tr>\n",
       "      <th>75%</th>\n",
       "      <td>38.000000</td>\n",
       "      <td>47.000000</td>\n",
       "      <td>76.000000</td>\n",
       "      <td>27.000000</td>\n",
       "      <td>59.000000</td>\n",
       "      <td>46.000000</td>\n",
       "    </tr>\n",
       "    <tr>\n",
       "      <th>max</th>\n",
       "      <td>79.000000</td>\n",
       "      <td>14327.000000</td>\n",
       "      <td>29813.000000</td>\n",
       "      <td>23492.000000</td>\n",
       "      <td>22408.000000</td>\n",
       "      <td>24133.000000</td>\n",
       "    </tr>\n",
       "  </tbody>\n",
       "</table>\n",
       "</div>"
      ],
      "text/plain": [
       "               Age   RoomService     FoodCourt  ShoppingMall           Spa  \\\n",
       "count  8514.000000   8512.000000   8510.000000   8485.000000   8510.000000   \n",
       "mean     28.827930    224.687617    458.077203    173.729169    311.138778   \n",
       "std      14.489021    666.717663   1611.489240    604.696458   1136.705535   \n",
       "min       0.000000      0.000000      0.000000      0.000000      0.000000   \n",
       "25%      19.000000      0.000000      0.000000      0.000000      0.000000   \n",
       "50%      27.000000      0.000000      0.000000      0.000000      0.000000   \n",
       "75%      38.000000     47.000000     76.000000     27.000000     59.000000   \n",
       "max      79.000000  14327.000000  29813.000000  23492.000000  22408.000000   \n",
       "\n",
       "             VRDeck  \n",
       "count   8505.000000  \n",
       "mean     304.854791  \n",
       "std     1145.717189  \n",
       "min        0.000000  \n",
       "25%        0.000000  \n",
       "50%        0.000000  \n",
       "75%       46.000000  \n",
       "max    24133.000000  "
      ]
     },
     "execution_count": 6,
     "metadata": {},
     "output_type": "execute_result"
    }
   ],
   "source": [
    "data.describe()"
   ]
  },
  {
   "cell_type": "markdown",
   "id": "abef36fe",
   "metadata": {},
   "source": [
    "# Separating numeric and non-numeric data"
   ]
  },
  {
   "cell_type": "code",
   "execution_count": 7,
   "id": "b3f9ea14",
   "metadata": {},
   "outputs": [
    {
     "name": "stdout",
     "output_type": "stream",
     "text": [
      "Index(['Age', 'RoomService', 'FoodCourt', 'ShoppingMall', 'Spa', 'VRDeck'], dtype='object')\n",
      "Index(['PassengerId', 'HomePlanet', 'CryoSleep', 'Destination', 'VIP'], dtype='object')\n"
     ]
    }
   ],
   "source": [
    "numeric_cols = data.select_dtypes(include = ['int64', 'float64']).columns\n",
    "category_cols = data.select_dtypes(include = ['object']).columns\n",
    "\n",
    "print(numeric_cols)\n",
    "print(category_cols)"
   ]
  },
  {
   "cell_type": "markdown",
   "id": "1d9bec84",
   "metadata": {},
   "source": [
    "# Dealing with null values\n",
    "It is important to clean null values from the data frame because they reduce the accuracy of the model."
   ]
  },
  {
   "cell_type": "code",
   "execution_count": 8,
   "id": "b571a430",
   "metadata": {},
   "outputs": [
    {
     "name": "stdout",
     "output_type": "stream",
     "text": [
      "Column name     # missing values\n",
      "PassengerId       0\n",
      "HomePlanet      201\n",
      "CryoSleep       217\n",
      "Destination     182\n",
      "Age             179\n",
      "VIP             203\n",
      "RoomService     181\n",
      "FoodCourt       183\n",
      "ShoppingMall    208\n",
      "Spa             183\n",
      "VRDeck          188\n",
      "Transported       0\n",
      "dtype: int64\n"
     ]
    },
    {
     "data": {
      "text/plain": [
       "<Axes: >"
      ]
     },
     "execution_count": 8,
     "metadata": {},
     "output_type": "execute_result"
    },
    {
     "data": {
      "image/png": "[encoded data removed]",
      "text/plain": [
       "<Figure size 640x480 with 2 Axes>"
      ]
     },
     "metadata": {},
     "output_type": "display_data"
    }
   ],
   "source": [
    "print(\"Column name     # missing values\")\n",
    "print(data.isnull().sum())\n",
    "sns.heatmap(data.isnull())"
   ]
  },
  {
   "cell_type": "markdown",
   "id": "4a82ecfe",
   "metadata": {},
   "source": [
    "For the numeric columns, I decided to fill them with mean values."
   ]
  },
  {
   "cell_type": "code",
   "execution_count": 9,
   "id": "dd50f7af",
   "metadata": {},
   "outputs": [],
   "source": [
    "from sklearn.impute import SimpleImputer\n",
    "myImputerNumeric = SimpleImputer(strategy='mean')\n",
    "imputed_x_numeric = pd.DataFrame(myImputerNumeric.fit_transform(data[numeric_cols]))"
   ]
  },
  {
   "cell_type": "markdown",
   "id": "fd469af2",
   "metadata": {},
   "source": [
    "After this transformation we lose column names and indexes : \n",
    "- RangeIndex(start=0, stop=6, step=1)"
   ]
  },
  {
   "cell_type": "code",
   "execution_count": 10,
   "id": "2b1b0cd4",
   "metadata": {},
   "outputs": [],
   "source": [
    "# name imputed cols\n",
    "imputed_x_numeric.columns = data[numeric_cols].columns\n",
    "#add indexes\n",
    "imputed_x_numeric.index = data.index"
   ]
  },
  {
   "cell_type": "code",
   "execution_count": 11,
   "id": "20b5a66b",
   "metadata": {},
   "outputs": [],
   "source": [
    "#impute object cols before encoding\n",
    "myImputerObject = SimpleImputer(strategy='most_frequent')\n",
    "imputed_x_object = pd.DataFrame(myImputerObject.fit_transform(data[category_cols]))\n",
    "#name imputed cols\n",
    "imputed_x_object.columns = data[category_cols].columns"
   ]
  },
  {
   "cell_type": "markdown",
   "id": "17057692",
   "metadata": {},
   "source": [
    "# Encoding Categorical Columns\n",
    "- Since we got rid of null values now we can encode categorical variables. Let’s check which columns can be encoded.\n",
    "- The idea here is, if there are too many unique values in a column, it will gradually increase the data frame when encoding. Therefore, we only encode columns with utmost 15 unique values."
   ]
  },
  {
   "cell_type": "code",
   "execution_count": 12,
   "id": "74c2d96b",
   "metadata": {},
   "outputs": [
    {
     "name": "stdout",
     "output_type": "stream",
     "text": [
      "0001_01    1\n",
      "6136_01    1\n",
      "6141_01    1\n",
      "6139_06    1\n",
      "6139_05    1\n",
      "          ..\n",
      "3126_01    1\n",
      "3124_03    1\n",
      "3124_02    1\n",
      "3124_01    1\n",
      "9280_02    1\n",
      "Name: PassengerId, Length: 8693, dtype: int64\n",
      "Earth     4602\n",
      "Europa    2131\n",
      "Mars      1759\n",
      "Name: HomePlanet, dtype: int64\n",
      "False    5439\n",
      "True     3037\n",
      "Name: CryoSleep, dtype: int64\n",
      "TRAPPIST-1e      5915\n",
      "55 Cancri e      1800\n",
      "PSO J318.5-22     796\n",
      "Name: Destination, dtype: int64\n",
      "False    8291\n",
      "True      199\n",
      "Name: VIP, dtype: int64\n"
     ]
    }
   ],
   "source": [
    "# check cols that can be encoded-less than 15 unique values\n",
    "for col in category_cols:\n",
    "    print(data[col].value_counts())"
   ]
  },
  {
   "cell_type": "markdown",
   "id": "2bd3c6fb",
   "metadata": {},
   "source": [
    "As seen from above:  \n",
    "Home Planet has 3 unique values - Earth, Europa and Mars  \n",
    "CryoSleep has 2 unique values (boolean)  \n",
    "Destination has 3 unique values: TRAPPIST-1e, 55 Cancri e, PSO J318.5–22  \n",
    "VIP has 2 unique values (boolean)\n"
   ]
  },
  {
   "cell_type": "code",
   "execution_count": 13,
   "id": "4787a3c9",
   "metadata": {},
   "outputs": [],
   "source": [
    "data = pd.concat([imputed_x_object, imputed_x_numeric, data['Transported']], axis=1)"
   ]
  },
  {
   "cell_type": "markdown",
   "id": "8666d7eb",
   "metadata": {},
   "source": [
    "The code is concatenating three pandas DataFrames: imputed_x_object, imputed_x_numeric, and a single column Transported from the data DataFrame. The axis=1 argument specifies that the concatenation should be done along the columns (i.e., horizontally).\n",
    "\n",
    "The resulting DataFrame data will have all the columns from imputed_x_object, all the columns from imputed_x_numeric, and the Transported column from data. The order of the columns in the concatenated DataFrame will be the same as the order of the arguments in the pd.concat() function."
   ]
  },
  {
   "cell_type": "code",
   "execution_count": 14,
   "id": "0f931793",
   "metadata": {},
   "outputs": [
    {
     "name": "stdout",
     "output_type": "stream",
     "text": [
      "<class 'pandas.core.frame.DataFrame'>\n",
      "RangeIndex: 8693 entries, 0 to 8692\n",
      "Data columns (total 12 columns):\n",
      " #   Column        Non-Null Count  Dtype  \n",
      "---  ------        --------------  -----  \n",
      " 0   PassengerId   8693 non-null   object \n",
      " 1   HomePlanet    8693 non-null   object \n",
      " 2   CryoSleep     8693 non-null   object \n",
      " 3   Destination   8693 non-null   object \n",
      " 4   VIP           8693 non-null   object \n",
      " 5   Age           8693 non-null   float64\n",
      " 6   RoomService   8693 non-null   float64\n",
      " 7   FoodCourt     8693 non-null   float64\n",
      " 8   ShoppingMall  8693 non-null   float64\n",
      " 9   Spa           8693 non-null   float64\n",
      " 10  VRDeck        8693 non-null   float64\n",
      " 11  Transported   8693 non-null   bool   \n",
      "dtypes: bool(1), float64(6), object(5)\n",
      "memory usage: 755.7+ KB\n"
     ]
    }
   ],
   "source": [
    "data.info()"
   ]
  },
  {
   "cell_type": "code",
   "execution_count": 15,
   "id": "97a954be",
   "metadata": {},
   "outputs": [
    {
     "data": {
      "text/html": [
       "<div>\n",
       "<style scoped>\n",
       "    .dataframe tbody tr th:only-of-type {\n",
       "        vertical-align: middle;\n",
       "    }\n",
       "\n",
       "    .dataframe tbody tr th {\n",
       "        vertical-align: top;\n",
       "    }\n",
       "\n",
       "    .dataframe thead th {\n",
       "        text-align: right;\n",
       "    }\n",
       "</style>\n",
       "<table border=\"1\" class=\"dataframe\">\n",
       "  <thead>\n",
       "    <tr style=\"text-align: right;\">\n",
       "      <th></th>\n",
       "      <th>PassengerId</th>\n",
       "      <th>HomePlanet</th>\n",
       "      <th>CryoSleep</th>\n",
       "      <th>Destination</th>\n",
       "      <th>VIP</th>\n",
       "      <th>Age</th>\n",
       "      <th>RoomService</th>\n",
       "      <th>FoodCourt</th>\n",
       "      <th>ShoppingMall</th>\n",
       "      <th>Spa</th>\n",
       "      <th>VRDeck</th>\n",
       "      <th>Transported</th>\n",
       "    </tr>\n",
       "  </thead>\n",
       "  <tbody>\n",
       "    <tr>\n",
       "      <th>0</th>\n",
       "      <td>0</td>\n",
       "      <td>1</td>\n",
       "      <td>0</td>\n",
       "      <td>2</td>\n",
       "      <td>0</td>\n",
       "      <td>39.0</td>\n",
       "      <td>0.0</td>\n",
       "      <td>0.0</td>\n",
       "      <td>0.0</td>\n",
       "      <td>0.0</td>\n",
       "      <td>0.0</td>\n",
       "      <td>0</td>\n",
       "    </tr>\n",
       "    <tr>\n",
       "      <th>1</th>\n",
       "      <td>1</td>\n",
       "      <td>0</td>\n",
       "      <td>0</td>\n",
       "      <td>2</td>\n",
       "      <td>0</td>\n",
       "      <td>24.0</td>\n",
       "      <td>109.0</td>\n",
       "      <td>9.0</td>\n",
       "      <td>25.0</td>\n",
       "      <td>549.0</td>\n",
       "      <td>44.0</td>\n",
       "      <td>1</td>\n",
       "    </tr>\n",
       "    <tr>\n",
       "      <th>2</th>\n",
       "      <td>2</td>\n",
       "      <td>1</td>\n",
       "      <td>0</td>\n",
       "      <td>2</td>\n",
       "      <td>1</td>\n",
       "      <td>58.0</td>\n",
       "      <td>43.0</td>\n",
       "      <td>3576.0</td>\n",
       "      <td>0.0</td>\n",
       "      <td>6715.0</td>\n",
       "      <td>49.0</td>\n",
       "      <td>0</td>\n",
       "    </tr>\n",
       "    <tr>\n",
       "      <th>3</th>\n",
       "      <td>3</td>\n",
       "      <td>1</td>\n",
       "      <td>0</td>\n",
       "      <td>2</td>\n",
       "      <td>0</td>\n",
       "      <td>33.0</td>\n",
       "      <td>0.0</td>\n",
       "      <td>1283.0</td>\n",
       "      <td>371.0</td>\n",
       "      <td>3329.0</td>\n",
       "      <td>193.0</td>\n",
       "      <td>0</td>\n",
       "    </tr>\n",
       "    <tr>\n",
       "      <th>4</th>\n",
       "      <td>4</td>\n",
       "      <td>0</td>\n",
       "      <td>0</td>\n",
       "      <td>2</td>\n",
       "      <td>0</td>\n",
       "      <td>16.0</td>\n",
       "      <td>303.0</td>\n",
       "      <td>70.0</td>\n",
       "      <td>151.0</td>\n",
       "      <td>565.0</td>\n",
       "      <td>2.0</td>\n",
       "      <td>1</td>\n",
       "    </tr>\n",
       "  </tbody>\n",
       "</table>\n",
       "</div>"
      ],
      "text/plain": [
       "   PassengerId  HomePlanet  CryoSleep  Destination  VIP   Age  RoomService  \\\n",
       "0            0           1          0            2    0  39.0          0.0   \n",
       "1            1           0          0            2    0  24.0        109.0   \n",
       "2            2           1          0            2    1  58.0         43.0   \n",
       "3            3           1          0            2    0  33.0          0.0   \n",
       "4            4           0          0            2    0  16.0        303.0   \n",
       "\n",
       "   FoodCourt  ShoppingMall     Spa  VRDeck  Transported  \n",
       "0        0.0           0.0     0.0     0.0            0  \n",
       "1        9.0          25.0   549.0    44.0            1  \n",
       "2     3576.0           0.0  6715.0    49.0            0  \n",
       "3     1283.0         371.0  3329.0   193.0            0  \n",
       "4       70.0         151.0   565.0     2.0            1  "
      ]
     },
     "execution_count": 15,
     "metadata": {},
     "output_type": "execute_result"
    }
   ],
   "source": [
    "for col in data.columns:\n",
    "# In case of categorical column\n",
    "# encode them\n",
    "if data[col].dtype == object:\n",
    "    le = LabelEncoder()\n",
    "    data[col] = le.fit_transform(data[col])\n",
    "\n",
    "# In case of boolean data type\n",
    "# convert them to binary\n",
    "if data[col].dtype == 'bool':\n",
    "    data[col] = data[col].astype(int)\n",
    "\n",
    "data.head()"
   ]
  },
  {
   "cell_type": "markdown",
   "id": "50d7a250",
   "metadata": {},
   "source": [
    "This code is used to preprocess the data by encoding categorical columns and converting boolean data to binary format.\n",
    "\n",
    "The code first iterates through each column in the data, and checks the data type of the column. If the column is categorical, it is encoded using the LabelEncoder from scikit-learn library. This replaces the categorical values with numeric labels, making it easier for machine learning algorithms to work with the data.\n",
    "\n",
    "If the column contains boolean values, they are converted to binary format by changing their data type to integer. This is because machine learning algorithms work with numerical data and it's easier to represent binary data with integers.\n",
    "\n",
    "Finally, the processed data is printed with the head() method to show the first few rows of the data after preprocessing."
   ]
  },
  {
   "cell_type": "markdown",
   "id": "72e1f1cf",
   "metadata": {},
   "source": [
    "# Determining X and y\n",
    "- y is the target — what we are trying to predict.\n",
    "- X values are the inputs — features that allow us to predict. In other words, features except y.\n"
   ]
  },
  {
   "cell_type": "code",
   "execution_count": 16,
   "id": "9454d08c",
   "metadata": {},
   "outputs": [],
   "source": [
    "y = data.Transported\n",
    "X = data.drop(['Transported'], axis=1)"
   ]
  },
  {
   "cell_type": "code",
   "execution_count": 17,
   "id": "52bc0689",
   "metadata": {},
   "outputs": [],
   "source": [
    "# Scale data\n",
    "from sklearn.preprocessing import StandardScaler\n",
    "scaler = StandardScaler()\n",
    "X = scaler.fit_transform(X)"
   ]
  },
  {
   "cell_type": "code",
   "execution_count": 18,
   "id": "4ccc743a",
   "metadata": {},
   "outputs": [],
   "source": [
    "# Split data into training and test sets\n",
    "from sklearn.model_selection import train_test_split\n",
    "X_train, X_test, y_train, y_test = train_test_split(X, y, test_size=0.2, random_state=11)"
   ]
  },
  {
   "cell_type": "code",
   "execution_count": 22,
   "id": "3d2b9ef1",
   "metadata": {
    "scrolled": false
   },
   "outputs": [
    {
     "name": "stdout",
     "output_type": "stream",
     "text": [
      "Training score: 0.3199695315049538\n",
      "Test score: 0.33956620591483344\n"
     ]
    },
    {
     "data": {
      "image/png": "[encoded data removed]",
      "text/plain": [
       "<Figure size 640x480 with 1 Axes>"
      ]
     },
     "metadata": {},
     "output_type": "display_data"
    },
    {
     "name": "stdout",
     "output_type": "stream",
     "text": [
      "Ridge Training score: 0.3199695314409946\n",
      "Ridge Test score: 0.3395660230160118\n",
      "Lasso Training score: 0.16544924314741194\n",
      "Lasso Test score: 0.18059544568928465\n",
      "Best parameters: {'alpha': 10}\n",
      "Training score: 0.31996889402083617\n",
      "Test score: 0.3395473207958397\n"
     ]
    }
   ],
   "source": [
    "# Train a Linear Regression model\n",
    "lin_reg = LinearRegression()\n",
    "lin_reg.fit(X_train, y_train)\n",
    "\n",
    "# Evaluate the model on the training and test set\n",
    "print(\"Training score:\", lin_reg.score(X_train, y_train))\n",
    "print(\"Test score:\", lin_reg.score(X_test, y_test))\n",
    "\n",
    "# Check for Overfitting/Underfitting using Learning Curves\n",
    "train_sizes, train_scores, test_scores = learning_curve(\n",
    "    lin_reg, X, y, train_sizes=np.linspace(0.1, 1.0, 10), cv=5)\n",
    "train_scores_mean = np.mean(train_scores, axis=1)\n",
    "train_scores_std = np.std(train_scores, axis=1)\n",
    "test_scores_mean = np.mean(test_scores, axis=1)\n",
    "test_scores_std = np.std(test_scores, axis=1)\n",
    "plt.figure()\n",
    "plt.title(\"Learning Curves (Linear Regression)\")\n",
    "plt.xlabel(\"Training examples\")\n",
    "plt.ylabel(\"Score\")\n",
    "plt.ylim(0.0, 1.1)\n",
    "plt.grid()\n",
    "plt.fill_between(train_sizes, train_scores_mean - train_scores_std,\n",
    "                 train_scores_mean + train_scores_std, alpha=0.1,\n",
    "                 color=\"r\")\n",
    "plt.fill_between(train_sizes, test_scores_mean - test_scores_std,\n",
    "                 test_scores_mean + test_scores_std, alpha=0.1,\n",
    "                 color=\"g\")\n",
    "plt.plot(train_sizes, train_scores_mean, 'o-', color=\"r\",\n",
    "         label=\"Training score\")\n",
    "plt.plot(train_sizes, test_scores_mean, 'o-', color=\"g\",\n",
    "         label=\"Cross-validation score\")\n",
    "plt.legend(loc=\"best\")\n",
    "plt.show()\n",
    "\n",
    "# Apply Regularization to prevent Overfitting/Underfitting\n",
    "# Ridge Regularization\n",
    "ridge = Ridge(alpha=0.1)\n",
    "ridge.fit(X_train, y_train)\n",
    "print(\"Ridge Training score:\", ridge.score(X_train, y_train))\n",
    "print(\"Ridge Test score:\", ridge.score(X_test, y_test))\n",
    "\n",
    "# Lasso Regularization\n",
    "lasso = Lasso(alpha=0.1)\n",
    "lasso.fit(X_train, y_train)\n",
    "print(\"Lasso Training score:\", lasso.score(X_train, y_train))\n",
    "print(\"Lasso Test score:\", lasso.score(X_test, y_test))\n",
    "\n",
    "# Hyperparameter Optimization using GridSearchCV\n",
    "param_grid = {'alpha': [0.01, 0.1, 1, 10]}\n",
    "grid_search = GridSearchCV(Ridge(), param_grid, cv=5)\n",
    "grid_search.fit(X_train, y_train)\n",
    "print(\"Best parameters:\", grid_search.best_params_)\n",
    "print(\"Training score:\", grid_search.best_estimator_.score(X_train, y_train))\n",
    "print(\"Test score:\", grid_search.best_estimator_.score(X_test, y_test))"
   ]
  },
  {
   "cell_type": "markdown",
   "id": "216aa4d1",
   "metadata": {},
   "source": [
    "- The basic linear regression model has a training score of 0.3199 and a test score of 0.3396. This suggests that the model is performing similarly on the training and test data, which is a good sign that the model is not overfitting or underfitting.\n",
    "\n",
    "- The Ridge regression model has a similar training score of 0.3199 and a slightly lower test score of 0.3396. This suggests that the Ridge model is also performing similarly on the training and test data, which is a good sign that it is not overfitting or underfitting. The Ridge model uses L2 regularization to help prevent overfitting.\n",
    "\n",
    "- The Lasso regression model has a much lower training score of 0.1571 and a test score of 0.1512. This suggests that the Lasso model is underfitting the data, as it is performing poorly on both the training and test data. The Lasso model uses L1 regularization to help prevent overfitting, but in this case it seems to be overly aggressive and is hurting the model's performance.\n",
    "\n",
    "- To address the underfitting issue with the Lasso model, you could try increasing the alpha parameter to make the regularization more relaxed. You could also try other types of regularization, such as ElasticNet, which combines both L1 and L2 regularization.\n",
    "\n",
    "- To address the potential for overfitting with the basic linear regression and Ridge models, you could try plotting learning curves to see if the models are continuing to improve with additional training data. If the learning curves plateau, it may be a sign that the models are starting to overfit and that more regularization may be needed.\n",
    "\n",
    "- Finally, you could also try performing hyperparameter optimization on the models to find the best values for any relevant hyperparameters. In the case of the Ridge and Lasso models, you could try different values of alpha to see if there is an optimal value that improves performance without overfitting or underfitting."
   ]
  },
  {
   "cell_type": "markdown",
   "id": "f63c4a1e",
   "metadata": {},
   "source": [
    "This code uses the scikit-learn library to train and evaluate linear regression models on a dataset.\n",
    "\n",
    "First, the code imports necessary modules including LinearRegression, Ridge, Lasso, learning_curve, GridSearchCV, numpy, and matplotlib.pyplot.\n",
    "\n",
    "Next, a linear regression model is trained using LinearRegression() and evaluated on the training and test sets using the score() method.\n",
    "\n",
    "To check for overfitting or underfitting, the learning curves are plotted using the learning_curve() function. This function returns the training and test scores for varying numbers of training examples. The mean and standard deviation of the scores are then calculated and plotted using matplotlib.pyplot.\n",
    "\n",
    "To prevent overfitting or underfitting, two types of regularization methods, Ridge and Lasso, are applied to the linear regression model. The Ridge() and Lasso() classes are used to create Ridge and Lasso models with a specified regularization parameter alpha. The score() method is then used to evaluate the models on the training and test sets.\n",
    "\n",
    "Finally, hyperparameter optimization is performed using GridSearchCV(). The param_grid variable contains a dictionary of hyperparameters to be tuned, in this case only alpha. The GridSearchCV() function is then used to perform a cross-validation search over the hyperparameter grid to find the best set of hyperparameters. The best estimator and its training and test scores are then printed."
   ]
  },
  {
   "cell_type": "code",
   "execution_count": 23,
   "id": "9ef4fe9b",
   "metadata": {},
   "outputs": [
    {
     "name": "stdout",
     "output_type": "stream",
     "text": [
      "Training score: 0.7827149841817659\n",
      "Test score: 0.7998849913743531\n"
     ]
    },
    {
     "data": {
      "image/png": "[encoded data removed]",
      "text/plain": [
       "<Figure size 640x480 with 1 Axes>"
      ]
     },
     "metadata": {},
     "output_type": "display_data"
    },
    {
     "name": "stdout",
     "output_type": "stream",
     "text": [
      "Ridge Training score: 0.3199695314409946\n",
      "Ridge Test score: 0.3395660230160118\n",
      "Lasso Training score: 0.16544924314741194\n",
      "Lasso Test score: 0.18059544568928465\n",
      "Best parameters: {'C': 100}\n",
      "Training score: 0.7825711820534944\n",
      "Test score: 0.7998849913743531\n"
     ]
    }
   ],
   "source": [
    "# Train a Logistic Regression model\n",
    "log_reg = LogisticRegression()\n",
    "log_reg.fit(X_train, y_train)\n",
    "\n",
    "# Evaluate the model on the training and test set\n",
    "print(\"Training score:\", log_reg.score(X_train, y_train))\n",
    "print(\"Test score:\", log_reg.score(X_test, y_test))\n",
    "\n",
    "# Check for Overfitting/Underfitting using Learning Curves\n",
    "train_sizes, train_scores, test_scores = learning_curve(\n",
    "    log_reg, X, y, train_sizes=np.linspace(0.1, 1.0, 10), cv=5)\n",
    "train_scores_mean = np.mean(train_scores, axis=1)\n",
    "train_scores_std = np.std(train_scores, axis=1)\n",
    "test_scores_mean = np.mean(test_scores, axis=1)\n",
    "test_scores_std = np.std(test_scores, axis=1)\n",
    "plt.figure()\n",
    "plt.title(\"Learning Curves (Logistic Regression)\")\n",
    "plt.xlabel(\"Training examples\")\n",
    "plt.ylabel(\"Score\")\n",
    "plt.ylim(0.0, 1.1)\n",
    "plt.grid()\n",
    "plt.fill_between(train_sizes, train_scores_mean - train_scores_std,\n",
    "                 train_scores_mean + train_scores_std, alpha=0.1,\n",
    "                 color=\"r\")\n",
    "plt.fill_between(train_sizes, test_scores_mean - test_scores_std,\n",
    "                 test_scores_mean + test_scores_std, alpha=0.1,\n",
    "                 color=\"g\")\n",
    "plt.plot(train_sizes, train_scores_mean, 'o-', color=\"r\",\n",
    "         label=\"Training score\")\n",
    "plt.plot(train_sizes, test_scores_mean, 'o-', color=\"g\",\n",
    "         label=\"Cross-validation score\")\n",
    "plt.legend(loc=\"best\")\n",
    "plt.show()\n",
    "\n",
    "# Apply Regularization to prevent Overfitting/Underfitting\n",
    "# Ridge Regularization\n",
    "ridge = Ridge(alpha=0.1)\n",
    "ridge.fit(X_train, y_train)\n",
    "print(\"Ridge Training score:\", ridge.score(X_train, y_train))\n",
    "print(\"Ridge Test score:\", ridge.score(X_test, y_test))\n",
    "\n",
    "# Lasso Regularization\n",
    "lasso = Lasso(alpha=0.1)\n",
    "lasso.fit(X_train, y_train)\n",
    "print(\"Lasso Training score:\", lasso.score(X_train, y_train))\n",
    "print(\"Lasso Test score:\", lasso.score(X_test, y_test))\n",
    "\n",
    "# Hyperparameter Optimization using GridSearchCV\n",
    "param_grid = {'C': [0.1, 1, 10, 100]}\n",
    "grid_search = GridSearchCV(LogisticRegression(), param_grid, cv=5)\n",
    "grid_search.fit(X_train, y_train)\n",
    "print(\"Best parameters:\", grid_search.best_params_)\n",
    "print(\"Training score:\", grid_search.best_estimator_.score(X_train, y_train))\n",
    "print(\"Test score:\", grid_search.best_estimator_.score(X_test, y_test))\n"
   ]
  },
  {
   "cell_type": "markdown",
   "id": "b8dca716",
   "metadata": {},
   "source": [
    "- The first two lines show the training and test scores for a model, without specifying which one it is. The scores are moderate, with the test score slightly higher than the training score, suggesting that the model is not overfitting too much.  \n",
    "- The next two lines show the training and test scores for a Ridge model, a logistic regression model with L2 regularization. The scores are lower than the previous model, indicating that Ridge is underfitting the data.  \n",
    "- The following two lines show the training and test scores for a Lasso model, another logistic regression model with L1 regularization. The scores are even lower than Ridge, suggesting that Lasso is also underfitting the data.\n",
    "- The next line shows the best hyperparameter setting found for one of the models, with a value of 100 for the regularization strength parameter C. It is not clear which model this corresponds to.  \n",
    "- The last two lines show the training and test scores for logistic model, which is not specified. The scores are similar to the first model, but with a slightly lower training score.  "
   ]
  },
  {
   "cell_type": "markdown",
   "id": "dce5d887",
   "metadata": {},
   "source": [
    "This code snippet demonstrates how to train a logistic regression model for classification, evaluate its performance on the training and test set, check for overfitting/underfitting using learning curves, apply regularization to prevent overfitting/underfitting, and optimize hyperparameters using grid search cross-validation.\n",
    "\n",
    "First, the logistic regression model is trained on the training data using LogisticRegression() from the scikit-learn library. The model is then evaluated on both the training and test sets using the score() method, which computes the mean accuracy of the predictions.\n",
    "\n",
    "Next, learning curves are generated to check for overfitting/underfitting. The learning_curve() function from scikit-learn is used to generate the training and cross-validation scores for different training set sizes. The scores are averaged across multiple iterations and plotted against the training set sizes. The learning curves can help diagnose if the model is overfitting (if the training score is high but the cross-validation score is low) or underfitting (if both scores are low).\n",
    "\n",
    "To prevent overfitting/underfitting, regularization techniques are applied. Ridge and Lasso regularization are used here, with an alpha value of 0.1. The performance of both models is evaluated on both the training and test sets using the score() method.\n",
    "\n",
    "Finally, hyperparameters are optimized using grid search cross-validation. A grid of hyperparameters is specified (in this case, different values of C for logistic regression), and GridSearchCV() from scikit-learn is used to search for the best hyperparameters. The performance of the best model is evaluated on both the training and test sets using the score() method. The best hyperparameters and scores are printed out."
   ]
  },
  {
   "cell_type": "code",
   "execution_count": null,
   "id": "d2502646",
   "metadata": {},
   "outputs": [],
   "source": []
  }
 ],
 "metadata": {
  "kernelspec": {
   "display_name": "Python 3 (ipykernel)",
   "language": "python",
   "name": "python3"
  },
  "language_info": {
   "codemirror_mode": {
    "name": "ipython",
    "version": 3
   },
   "file_extension": ".py",
   "mimetype": "text/x-python",
   "name": "python",
   "nbconvert_exporter": "python",
   "pygments_lexer": "ipython3",
   "version": "3.9.12"
  }
 },
 "nbformat": 4,
 "nbformat_minor": 5
}
